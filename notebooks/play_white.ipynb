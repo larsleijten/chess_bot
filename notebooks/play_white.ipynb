{
 "cells": [
  {
   "cell_type": "code",
   "execution_count": 1,
   "id": "e13c9ae1",
   "metadata": {},
   "outputs": [
    {
     "name": "stdout",
     "output_type": "stream",
     "text": [
      "r n b q k b n r\n",
      "p p p p p p p p\n",
      ". . . . . . . .\n",
      ". . . . . . . .\n",
      ". . . . . . . .\n",
      ". . . . . . . .\n",
      "P P P P P P P P\n",
      "R N B Q K B N R\n"
     ]
    }
   ],
   "source": [
    "import chess\n",
    "import random\n",
    "from chess_bot.bot.cnn_chessbot import CNNChessbot, ChessPolicyNet\n",
    "import chess_bot.utils.tensor_uci_interface as interface\n",
    "\n",
    "class CheckmateCongratulations(Exception):\n",
    "    \"\"\"A cheerful exception to celebrate a checkmate!\"\"\"\n",
    "    pass\n",
    "\n",
    "board = chess.Board()\n",
    "bot = ChessPolicyNet()\n",
    "print(board)\n"
   ]
  },
  {
   "cell_type": "code",
   "execution_count": 6,
   "id": "ce39e8a3",
   "metadata": {},
   "outputs": [
    {
     "name": "stdout",
     "output_type": "stream",
     "text": [
      "torch.Size([1, 4096])\n",
      "r . b q . b n r\n",
      "p p p k p p p p\n",
      ". . . . . . . .\n",
      ". . . B . . . .\n",
      ". . . n P . . .\n",
      ". . . . . Q . .\n",
      "P P P P . P P P\n",
      "R N B . K . N R\n"
     ]
    }
   ],
   "source": [
    "### PLAYERS MOVE ###\n",
    "my_move = \"c4d5\"\n",
    "move = chess.Move.from_uci(my_move)\n",
    "board.push(move)\n",
    "if board.is_checkmate():\n",
    "    raise(CheckmateCongratulations)\n",
    "if board.is_stalemate():\n",
    "    print(\"Stalemate!\")\n",
    "\n",
    "### COMPUTERS MOVE ###\n",
    "tensor_board = interface.board_to_tensor(board).unsqueeze(0) # add batch dim\n",
    "logits = bot(tensor_board)\n",
    "legal_move_mask = interface.legal_move_mask(board.legal_moves)\n",
    "tensor_move = interface.pick_tensor_move(logits, legal_move_mask).squeeze()\n",
    "uci_move = interface.moves_tensor_to_uci(tensor_move)\n",
    "board.push(uci_move)\n",
    "\n",
    "print(board)\n",
    "\n",
    "if board.is_checkmate():\n",
    "    print(\"Checkmate! You win!\")\n",
    "if board.is_stalemate():\n",
    "    print(\"Stalemate!\")\n",
    "\n",
    "\n",
    "\n"
   ]
  },
  {
   "cell_type": "code",
   "execution_count": null,
   "id": "281aada1",
   "metadata": {},
   "outputs": [
    {
     "data": {
      "text/plain": [
       "torch.Size([4096])"
      ]
     },
     "execution_count": 3,
     "metadata": {},
     "output_type": "execute_result"
    }
   ],
   "source": [
    "legal_move_mask.shape"
   ]
  },
  {
   "cell_type": "code",
   "execution_count": null,
   "id": "6fcd1b41",
   "metadata": {},
   "outputs": [],
   "source": []
  }
 ],
 "metadata": {
  "kernelspec": {
   "display_name": "chess",
   "language": "python",
   "name": "python3"
  },
  "language_info": {
   "codemirror_mode": {
    "name": "ipython",
    "version": 3
   },
   "file_extension": ".py",
   "mimetype": "text/x-python",
   "name": "python",
   "nbconvert_exporter": "python",
   "pygments_lexer": "ipython3",
   "version": "3.11.13"
  }
 },
 "nbformat": 4,
 "nbformat_minor": 5
}
