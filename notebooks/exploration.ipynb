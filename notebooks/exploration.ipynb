{
 "cells": [
  {
   "cell_type": "code",
   "execution_count": 1,
   "id": "c2aa16e4",
   "metadata": {},
   "outputs": [
    {
     "name": "stdout",
     "output_type": "stream",
     "text": [
      "r n b q k b n r\n",
      "p p p p p p p p\n",
      ". . . . . . . .\n",
      ". . . . . . . .\n",
      ". . . . . . . .\n",
      ". . . . . . . .\n",
      "P P P P P P P P\n",
      "R N B Q K B N R\n"
     ]
    }
   ],
   "source": [
    "import chess\n",
    "import random\n",
    "\n",
    "board = chess.Board()\n",
    "\n",
    "print(board)"
   ]
  },
  {
   "cell_type": "code",
   "execution_count": 14,
   "id": "5a6630d1",
   "metadata": {},
   "outputs": [
    {
     "name": "stdout",
     "output_type": "stream",
     "text": [
      "g1h3\n",
      "g1f3\n",
      "f1h3\n",
      "f1g2\n",
      "b1c3\n",
      "b1a3\n",
      "g4g5\n",
      "h2h3\n",
      "f2f3\n",
      "e2e3\n",
      "d2d3\n",
      "c2c3\n",
      "b2b3\n",
      "a2a3\n",
      "h2h4\n",
      "f2f4\n",
      "e2e4\n",
      "d2d4\n",
      "c2c4\n",
      "b2b4\n",
      "a2a4\n",
      "r n b q k b n r\n",
      "p p p . p p p p\n",
      ". . . . . . . .\n",
      ". . . p . . . .\n",
      ". . . . . . P .\n",
      ". . . . . . . P\n",
      "P P P P P P . .\n",
      "R N B Q K B N R\n"
     ]
    }
   ],
   "source": [
    "legal_moves = list(board.legal_moves)\n",
    "\n",
    "for move in legal_moves:\n",
    "    print(move)\n",
    "\n",
    "move = random.choice(legal_moves)\n",
    "\n",
    "board.push(move)\n",
    "\n",
    "print(board)\n",
    "\n",
    "\n"
   ]
  },
  {
   "cell_type": "code",
   "execution_count": 12,
   "id": "9d9f6fc3",
   "metadata": {},
   "outputs": [
    {
     "name": "stdout",
     "output_type": "stream",
     "text": [
      "a1h8\n",
      "torch.Size([4096])\n",
      "a1h8\n"
     ]
    }
   ],
   "source": [
    "from chess_bot.utils.tensor_uci_interface import moves_tensor_to_uci, moves_uci_to_tensor\n",
    "\n",
    "my_move = chess.Move(0, 63)\n",
    "print(my_move)\n",
    "\n",
    "tensor_move = moves_uci_to_tensor(my_move)\n",
    "print(tensor_move.shape)\n",
    "\n",
    "move_again = moves_tensor_to_uci(tensor_move)\n",
    "print(move_again)\n"
   ]
  },
  {
   "cell_type": "code",
   "execution_count": 4,
   "id": "f4d7b0f2",
   "metadata": {},
   "outputs": [
    {
     "data": {
      "text/plain": [
       "Move.from_uci('g2g4')"
      ]
     },
     "execution_count": 4,
     "metadata": {},
     "output_type": "execute_result"
    }
   ],
   "source": [
    "move"
   ]
  }
 ],
 "metadata": {
  "kernelspec": {
   "display_name": "chess",
   "language": "python",
   "name": "python3"
  },
  "language_info": {
   "codemirror_mode": {
    "name": "ipython",
    "version": 3
   },
   "file_extension": ".py",
   "mimetype": "text/x-python",
   "name": "python",
   "nbconvert_exporter": "python",
   "pygments_lexer": "ipython3",
   "version": "3.11.13"
  }
 },
 "nbformat": 4,
 "nbformat_minor": 5
}
