{
 "cells": [
  {
   "cell_type": "code",
   "execution_count": 1,
   "id": "c2aa16e4",
   "metadata": {},
   "outputs": [
    {
     "name": "stdout",
     "output_type": "stream",
     "text": [
      "r n b q k b n r\n",
      "p p p p p p p p\n",
      ". . . . . . . .\n",
      ". . . . . . . .\n",
      ". . . . . . . .\n",
      ". . . . . . . .\n",
      "P P P P P P P P\n",
      "R N B Q K B N R\n"
     ]
    }
   ],
   "source": [
    "import chess\n",
    "import random\n",
    "\n",
    "board = chess.Board()\n",
    "\n",
    "print(board)"
   ]
  },
  {
   "cell_type": "code",
   "execution_count": null,
   "id": "5a6630d1",
   "metadata": {},
   "outputs": [
    {
     "name": "stdout",
     "output_type": "stream",
     "text": [
      "g8h6\n",
      "g8f6\n",
      "e8d7\n",
      "d8d7\n",
      "d8d6\n",
      "c8d7\n",
      "c8e6\n",
      "c8f5\n",
      "c8g4\n",
      "b8d7\n",
      "b8c6\n",
      "b8a6\n",
      "h7h6\n",
      "g7g6\n",
      "f7f6\n",
      "e7e6\n",
      "c7c6\n",
      "b7b6\n",
      "a7a6\n",
      "d5d4\n",
      "h7h5\n",
      "g7g5\n",
      "f7f5\n",
      "e7e5\n",
      "c7c5\n",
      "b7b5\n",
      "a7a5\n",
      "r n . q k b n r\n",
      "p p p . p p p p\n",
      ". . . . . . . .\n",
      ". . . p . b . .\n",
      ". . . . . . P .\n",
      ". . . . . . . P\n",
      "P P P P P P . .\n",
      "R N B Q K B N R\n"
     ]
    }
   ],
   "source": [
    "legal_moves = list(board.legal_moves)\n",
    "\n",
    "for move in legal_moves:\n",
    "    print(move)\n",
    "\n",
    "move = random.choice(legal_moves)\n",
    "\n",
    "board.push(move)\n",
    "\n",
    "print(board)\n",
    "\n",
    "move.ply\n"
   ]
  },
  {
   "cell_type": "code",
   "execution_count": 12,
   "id": "9d9f6fc3",
   "metadata": {},
   "outputs": [
    {
     "name": "stdout",
     "output_type": "stream",
     "text": [
      "a1h8\n",
      "torch.Size([4096])\n",
      "a1h8\n"
     ]
    }
   ],
   "source": [
    "from chess_bot.utils.tensor_uci_interface import moves_tensor_to_uci, moves_uci_to_tensor\n",
    "\n",
    "my_move = chess.Move(0, 63)\n",
    "print(my_move)\n",
    "\n",
    "tensor_move = moves_uci_to_tensor(my_move)\n",
    "print(tensor_move.shape)\n",
    "\n",
    "move_again = moves_tensor_to_uci(tensor_move)\n",
    "print(move_again)\n"
   ]
  },
  {
   "cell_type": "code",
   "execution_count": 4,
   "id": "f4d7b0f2",
   "metadata": {},
   "outputs": [
    {
     "data": {
      "text/plain": [
       "Move.from_uci('g2g4')"
      ]
     },
     "execution_count": 4,
     "metadata": {},
     "output_type": "execute_result"
    }
   ],
   "source": [
    "move"
   ]
  }
 ],
 "metadata": {
  "kernelspec": {
   "display_name": "chess",
   "language": "python",
   "name": "python3"
  },
  "language_info": {
   "codemirror_mode": {
    "name": "ipython",
    "version": 3
   },
   "file_extension": ".py",
   "mimetype": "text/x-python",
   "name": "python",
   "nbconvert_exporter": "python",
   "pygments_lexer": "ipython3",
   "version": "3.11.13"
  }
 },
 "nbformat": 4,
 "nbformat_minor": 5
}
